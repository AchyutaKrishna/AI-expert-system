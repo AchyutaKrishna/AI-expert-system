{
 "cells": [
  {
   "cell_type": "code",
   "execution_count": null,
   "metadata": {
    "id": "zn3aJtYebDLv"
   },
   "outputs": [],
   "source": [
    "# import necessary libraries\n",
    "import numpy as np\n",
    "import pandas as pd\n",
    "import textdistance as td\n",
    "import random"
   ]
  },
  {
   "cell_type": "code",
   "execution_count": null,
   "metadata": {
    "id": "9RGrg1FhbT1v"
   },
   "outputs": [],
   "source": [
    "# import data from datasets in the csv format\n",
    "auth = pd.read_csv('./datasets/authorship.csv')\n",
    "conf = pd.read_csv('./datasets/conferences.csv')\n",
    "papers = pd.read_csv('./datasets/papers.csv')\n",
    "persons = pd.read_csv('./datasets/persons.csv')"
   ]
  },
  {
   "cell_type": "code",
   "execution_count": null,
   "metadata": {
    "id": "D9ncGABg3oyd"
   },
   "outputs": [],
   "source": [
    "# some changes to the dataframes\n",
    "persons['name'] = persons['name'].str.lower()\n",
    "\n",
    "cols = papers.columns\n",
    "cols = [c for c in cols if c.startswith(\"Unnamed\")]\n",
    "papers = papers.drop(cols, axis=1)\n",
    "\n",
    "persons = persons[persons['name'].notna()]\n",
    "\n",
    "\n",
    "# the dataset doesn't have the data about whether the user has published papers in a particular journal or not\n",
    "# so we are adding random 1s and 0s to the dataset, with an non-uniform probability\n",
    "\n",
    "def oneorzero(z, margin):\n",
    "    if z >= margin:\n",
    "        return 1\n",
    "    else:\n",
    "        return 0\n",
    "\n",
    "has_published = [oneorzero(random.uniform(0,1), 0.15) for i in range(len(conf))]\n",
    "conf['has_published'] = has_published"
   ]
  },
  {
   "cell_type": "code",
   "execution_count": null,
   "metadata": {
    "id": "_gz6AFaHi0uI"
   },
   "outputs": [],
   "source": [
    "# filter based on impact factor\n",
    "\n",
    "lower_if, upper_if = -1, -1\n",
    "\n",
    "print(\"Enter range of impact factor\")\n",
    "\n",
    "lower = input(\"Lower bound: \")\n",
    "if not lower.isnumeric():\n",
    "  lower_if = -1\n",
    "else:\n",
    "  lower_if = int(lower)\n",
    "\n",
    "upper = input(\"Upper bound: \")\n",
    "if not upper.isnumeric():\n",
    "  upper_if = -1\n",
    "else:\n",
    "  upper_if = int(upper)\n",
    "\n",
    "\n",
    "if lower_if == -1 and upper_if == -1:\n",
    "  filter1 = conf\n",
    "elif lower_if == -1:\n",
    "  filter1 = conf[lambda x: x['impact'] <= upper_if]  \n",
    "elif upper_if == -1:\n",
    "  filter1 = conf[lambda x: x['impact'] >= lower_if]  \n",
    "else:\n",
    "  filter1 = conf[lambda x: x['impact'] >= lower_if]\n",
    "  filter1 = conf[lambda x: x['impact'] <= upper_if]"
   ]
  },
  {
   "cell_type": "code",
   "execution_count": null,
   "metadata": {
    "id": "zieR9Ez5ihhn"
   },
   "outputs": [],
   "source": [
    "# filter based on conference name\n",
    "\n",
    "conf_id = -1\n",
    "\n",
    "conference_name = input(\"Enter conference name: \")\n",
    "if conference_name != \"\":\n",
    "  filter2 = conf[lambda x: x['acronym'] == conference_name.upper()]\n",
    "  if len(filter2) == 1:\n",
    "    conf_id = filter2['id'].tolist()[0]"
   ]
  },
  {
   "cell_type": "code",
   "execution_count": null,
   "metadata": {
    "id": "RzQtpgCViyGA",
    "scrolled": false
   },
   "outputs": [],
   "source": [
    "# filter based on publisher's name\n",
    "auth_ids = []\n",
    "\n",
    "author_name = input(\"Enter author name: \")\n",
    "\n",
    "if author_name != \"\":\n",
    "  simfact = [td.sorensen.normalized_similarity(author_name, pp) for pp in persons['name'].tolist()]\n",
    "  persons['similarity_factor'] = simfact\n",
    "  auth_ids = persons[lambda x: x['similarity_factor'] >= 0.5]['id'].tolist()\n",
    "    \n",
    "else:\n",
    "  auth_ids = persons['id'].tolist()"
   ]
  },
  {
   "cell_type": "code",
   "execution_count": null,
   "metadata": {
    "id": "ywueT_lc7E5i"
   },
   "outputs": [],
   "source": [
    "# filter based on title of the paper\n",
    "\n",
    "title = input(\"Enter title of the paper(or parts of it): \")\n",
    "\n",
    "if title != \"\":\n",
    "  simfact = [td.sorensen.normalized_similarity(title, pp) for pp in papers['title'].tolist()]\n",
    "  papers['similarity_factor'] = simfact\n",
    "  modpapers = papers[lambda x: x['similarity_factor'] >= 0.3]\n",
    "else:\n",
    "  modpapers = papers"
   ]
  },
  {
   "cell_type": "code",
   "execution_count": null,
   "metadata": {
    "id": "nGYJEF48fnE8"
   },
   "outputs": [],
   "source": [
    "# filter based on paper published year\n",
    "\n",
    "yr_lower, yr_upper = -1, -1\n",
    "print(\"Enter the range (in years) of the paper published: \")\n",
    "\n",
    "yrlower = input(\"Lower bound: \")\n",
    "if not yrlower.isnumeric():\n",
    "  lower_yr = -1\n",
    "else:\n",
    "  lower_yr = int(yrlower)\n",
    "\n",
    "yrupper = input(\"Upper bound: \")\n",
    "if not yrupper.isnumeric():\n",
    "  upper_yr = -1\n",
    "else:\n",
    "  upper_yr = int(yrupper)\n",
    "\n",
    "\n",
    "if lower_yr == -1 and upper_yr == -1:\n",
    "  modpapers = modpapers\n",
    "elif lower_yr == -1:\n",
    "  modpapers = modpapers[lambda x: x['year'] <= upper_yr]  \n",
    "elif upper_yr == -1:\n",
    "  modpapers = modpapers[lambda x: x['year'] >= lower_yr]  \n",
    "else:\n",
    "  modpapers = modpapers[lambda x: x['year'] >= lower_yr]\n",
    "  modpapers = modpapers[lambda x: x['year'] <= upper_yr]"
   ]
  },
  {
   "cell_type": "code",
   "execution_count": null,
   "metadata": {
    "id": "K59vLmcECm_O"
   },
   "outputs": [],
   "source": [
    "# filter on pages\n",
    "\n",
    "lbp, ubp = -1, -1\n",
    "\n",
    "print(\"Enter the range of pages in the paper: \")\n",
    "\n",
    "lb = input(\"Lower bound: \")\n",
    "if not lb.isnumeric():\n",
    "  lbp = -1\n",
    "else:\n",
    "  lbp = int(lb)\n",
    "\n",
    "ub = input(\"Upper bound: \")\n",
    "if not ub.isnumeric():\n",
    "  ubp = -1\n",
    "else:\n",
    "  ubp = int(ub)\n",
    "\n",
    "tempdf = modpapers[lambda x: x['num_pages'] == 0]\n",
    "\n",
    "if lbp == -1 and ubp == -1:\n",
    "  modpapers = modpapers\n",
    "elif lbp == -1:\n",
    "  modpapers = modpapers[lambda x: x['num_pages'] <= ubp]\n",
    "  modpapers = pd.concat([modpapers, tempdf])  \n",
    "elif ubp == -1:\n",
    "  modpapers = modpapers[lambda x: x['num_pages'] >= lbp]\n",
    "  modpapers = pd.concat([modpapers, tempdf])\n",
    "else:\n",
    "  modpapers = modpapers[lambda x: x['num_pages'] >= lbp]\n",
    "  modpapers = modpapers[lambda x: x['num_pages'] <= ubp]\n",
    "  modpapers = pd.concat([modpapers, tempdf])"
   ]
  },
  {
   "cell_type": "code",
   "execution_count": null,
   "metadata": {
    "id": "IX5LzmMBH5u2"
   },
   "outputs": [],
   "source": [
    "# final modifications to the data\n",
    "\n",
    "def finalfilter(conf_id, auth_ids, modpapers):\n",
    "  if conf_id == -1:\n",
    "    modpapers = modpapers\n",
    "  else:\n",
    "    modpapers = modpapers[lambda x: x['conference_id'] == conf_id]\n",
    "  \n",
    "  paperids = auth[lambda x: x['person_id'].isin(auth_ids)]['paper_id'].tolist()\n",
    "  finaldf = modpapers[modpapers['id'].isin(paperids)]\n",
    "  return paperids,finaldf"
   ]
  },
  {
   "cell_type": "code",
   "execution_count": null,
   "metadata": {},
   "outputs": [],
   "source": [
    "# get recommendations for the user, from the journals he/she has published in\n",
    "\n",
    "def recommend_filter(finaldf):\n",
    "    conferences = conf[lambda x: x['has_published'] == 1]['id'].tolist()\n",
    "    \n",
    "    recommdf = finaldf[finaldf['conference_id'].isin(conferences)]\n",
    "    \n",
    "    return recommdf"
   ]
  },
  {
   "cell_type": "code",
   "execution_count": null,
   "metadata": {
    "id": "BQNAIsEmMUx9",
    "scrolled": true
   },
   "outputs": [],
   "source": [
    "pid, finaldf = finalfilter(conf_id, auth_ids, modpapers)\n",
    "recommdf = recommend_filter(finaldf)"
   ]
  },
  {
   "cell_type": "code",
   "execution_count": null,
   "metadata": {},
   "outputs": [],
   "source": [
    "# prints articles which satisfy the given criteria\n",
    "\n",
    "if len(finaldf) == 0:\n",
    "    printf(\"No articles are found for the criteria you have searched for\")\n",
    "\n",
    "else:\n",
    "    print(\"The following \" + str(len(finaldf)) + \" entries are found relevant: \")\n",
    "    count = 0\n",
    "    for index, row in finaldf.iterrows():\n",
    "      print(str(count) + \" :::: \" + row['title'] + \" :::: published in \" + str(row['year']))\n",
    "      count += 1"
   ]
  },
  {
   "cell_type": "code",
   "execution_count": null,
   "metadata": {},
   "outputs": [],
   "source": [
    "# recommends articles which satisfies the criteria and from those journals where the user has published previously\n",
    "\n",
    "if len(recommdf) == 0:\n",
    "    printf(\"You have not published in any of the conferences, so you don't have any recommendations\")\n",
    "\n",
    "else:\n",
    "    print(\"These \" + str(len(recommdf)) + \" articles are recommended for you, since you have published in these journals: \")\n",
    "    count = 0\n",
    "    for index, row in recommdf.iterrows():\n",
    "      print(str(count) + \" :::: \" + row['title'] + \" :::: published in \" + str(row['year']))\n",
    "      count += 1"
   ]
  },
  {
   "cell_type": "code",
   "execution_count": null,
   "metadata": {},
   "outputs": [],
   "source": [
    "# print the filters used to generate the output\n",
    "\n",
    "print(\"\\033[1m The following rules were used to get the results:\\n \\033[0m\")\n",
    "\n",
    "\n",
    "print(\"\\033[1m Impact factor: \\033[0m\")\n",
    "if lower_if != -1 and upper_if == -1:\n",
    "    print(\"Measures were not given - not considered for filtering\")\n",
    "elif lower_if == -1:\n",
    "    print(\"Upper bound given: \" + str(upper_if) + \". Entries lesser than the given value are considered\")\n",
    "elif upper_if == -1:\n",
    "    print(\"Lower bound given: \" + str(lower_if) + \". Entries greater than the given value are considered\")\n",
    "else:\n",
    "    print(\"Both bounds given. Values range from \" + str(lower_if) + \" to \" + str(upper_if))\n",
    "print()    \n",
    "    \n",
    "    \n",
    "print(\"\\033[1m Year of publishing: \\033[0m\")\n",
    "if lower_yr != -1 and upper_yr == -1:\n",
    "    print(\"Measures were not given - not considered for filtering\")\n",
    "elif lower_yr == -1:\n",
    "    print(\"Upper bound given: \" + str(upper_yr) + \". Papers published before the given year are considered\")\n",
    "elif upper_yr == -1:\n",
    "    print(\"Lower bound given: \" + str(lower_yr) + \". Papers published after the given year are considered\")\n",
    "else:\n",
    "    print(\"Both bounds given. Papers published between the years \" + str(lower_yr) + \" to \" + str(upper_yr) + \" are considered\")\n",
    "print()\n",
    "\n",
    "\n",
    "print(\"\\033[1m Number of pages in the article: \\033[0m\")\n",
    "if lbp != -1 and ubp == -1:\n",
    "    print(\"Measures were not given - not considered for filtering\")\n",
    "elif lbp == -1:\n",
    "    print(\"Upper bound given: \" + str(ubp) + \". Papers having less than given number of pages are considered\")\n",
    "elif upper_yr == -1:\n",
    "    print(\"Lower bound given: \" + str(lbp) + \". Papers having more than given number of pages are considered\")\n",
    "else:\n",
    "    print(\"Both bounds given. Papers having pages in the range \" + str(lbp) + \" to \" + str(ubp) + \" are considered\")\n",
    "print()\n",
    "\n",
    "\n",
    "print(\"\\033[1m Title of the paper: \\033[0m\")\n",
    "if title == \"\":\n",
    "    print(\"Title not entered - not considered for filtering\")\n",
    "else:\n",
    "    print(\"Title entered - \" + str(title))\n",
    "    print(\"All papers having similarity factor >= 0.3 with the given title are considered\")\n",
    "print()\n",
    "\n",
    "\n",
    "print(\"\\033[1m Conference name: \\033[0m\")\n",
    "if conf_id == -1:\n",
    "    print(\"Conference name not mentioned, or is invalid - not considered\")\n",
    "else:\n",
    "    print(\"Conference name given - \" + str(conference_name))\n",
    "    print(\"Papers published in the given conference are considered\")\n",
    "print()\n",
    "\n",
    "\n",
    "print(\"\\033[1m Author name: \\033[0m\")\n",
    "if len(auth_ids) == \"\":\n",
    "    print(\"Author name not mentioned, or is invalid, or does not match the entries - not considered\")\n",
    "else:\n",
    "    print(\"Author name given - \" + str(author_name))\n",
    "    print(\"All papers published by authors having similarity factor >= 0.5 with the entered name are considered by IDs\")"
   ]
  },
  {
   "cell_type": "code",
   "execution_count": null,
   "metadata": {},
   "outputs": [],
   "source": []
  }
 ],
 "metadata": {
  "colab": {
   "collapsed_sections": [],
   "name": "Expert System",
   "provenance": []
  },
  "kernelspec": {
   "display_name": "Python 3",
   "language": "python",
   "name": "python3"
  },
  "language_info": {
   "codemirror_mode": {
    "name": "ipython",
    "version": 3
   },
   "file_extension": ".py",
   "mimetype": "text/x-python",
   "name": "python",
   "nbconvert_exporter": "python",
   "pygments_lexer": "ipython3",
   "version": "3.8.5"
  }
 },
 "nbformat": 4,
 "nbformat_minor": 1
}
